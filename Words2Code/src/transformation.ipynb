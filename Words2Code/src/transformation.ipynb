{
 "cells": [
  {
   "cell_type": "markdown",
   "metadata": {},
   "source": [
    "# Data augmentation code\n",
    "\n",
    "\n",
    "This is the code for the data augmentation used in the paper:\n",
    "\n",
    "J. Sueiras, et al.: \"Using Synthetic Character Database for Training Deep Learning Models Applied to Offline Handwritten Character Recognition\", Proc. Intl. Conf. Intelligent Systems Design and Applications (ISDA), Springer, Porto (Portugal), 2016.   \n"
   ]
  },
  {
   "cell_type": "code",
   "execution_count": 45,
   "metadata": {},
   "outputs": [
    {
     "name": "stdout",
     "output_type": "stream",
     "text": [
      "Requirement already satisfied: sklearn in c:\\users\\itay\\appdata\\local\\packages\\pythonsoftwarefoundation.python.3.9_qbz5n2kfra8p0\\localcache\\local-packages\\python39\\site-packages (0.0)\n",
      "Requirement already satisfied: scikit-learn in c:\\users\\itay\\appdata\\local\\packages\\pythonsoftwarefoundation.python.3.9_qbz5n2kfra8p0\\localcache\\local-packages\\python39\\site-packages (from sklearn) (1.1.2)\n",
      "Requirement already satisfied: joblib>=1.0.0 in c:\\users\\itay\\appdata\\local\\packages\\pythonsoftwarefoundation.python.3.9_qbz5n2kfra8p0\\localcache\\local-packages\\python39\\site-packages (from scikit-learn->sklearn) (1.1.0)\n",
      "Requirement already satisfied: numpy>=1.17.3 in c:\\users\\itay\\appdata\\local\\packages\\pythonsoftwarefoundation.python.3.9_qbz5n2kfra8p0\\localcache\\local-packages\\python39\\site-packages (from scikit-learn->sklearn) (1.23.2)\n",
      "Requirement already satisfied: threadpoolctl>=2.0.0 in c:\\users\\itay\\appdata\\local\\packages\\pythonsoftwarefoundation.python.3.9_qbz5n2kfra8p0\\localcache\\local-packages\\python39\\site-packages (from scikit-learn->sklearn) (3.1.0)\n",
      "Requirement already satisfied: scipy>=1.3.2 in c:\\users\\itay\\appdata\\local\\packages\\pythonsoftwarefoundation.python.3.9_qbz5n2kfra8p0\\localcache\\local-packages\\python39\\site-packages (from scikit-learn->sklearn) (1.9.0)\n"
     ]
    }
   ],
   "source": [
    "# ! pip install numpy --user\n",
    "# ! pip install pandas --user\n",
    "# ! pip install opencv-python --user\n",
    "! pip install PIL --user\n",
    "# ! pip install matplotlib --user"
   ]
  },
  {
   "cell_type": "code",
   "execution_count": 46,
   "metadata": {
    "collapsed": false
   },
   "outputs": [
    {
     "ename": "ImportError",
     "evalue": "cannot import name 'imresize' from 'PIL' (C:\\Users\\Itay\\AppData\\Local\\Packages\\PythonSoftwareFoundation.Python.3.9_qbz5n2kfra8p0\\LocalCache\\local-packages\\Python39\\site-packages\\PIL\\__init__.py)",
     "output_type": "error",
     "traceback": [
      "\u001b[1;31m---------------------------------------------------------------------------\u001b[0m",
      "\u001b[1;31mImportError\u001b[0m                               Traceback (most recent call last)",
      "\u001b[1;32md:\\UnityGames\\GITHUB\\Words2Code\\Words2Code\\src\\transformation.ipynb Cell 3\u001b[0m in \u001b[0;36m<cell line: 6>\u001b[1;34m()\u001b[0m\n\u001b[0;32m      <a href='vscode-notebook-cell:/d%3A/UnityGames/GITHUB/Words2Code/Words2Code/src/transformation.ipynb#W1sZmlsZQ%3D%3D?line=3'>4</a>\u001b[0m \u001b[39mimport\u001b[39;00m \u001b[39mcv2\u001b[39;00m\n\u001b[0;32m      <a href='vscode-notebook-cell:/d%3A/UnityGames/GITHUB/Words2Code/Words2Code/src/transformation.ipynb#W1sZmlsZQ%3D%3D?line=4'>5</a>\u001b[0m \u001b[39mimport\u001b[39;00m \u001b[39mmatplotlib\u001b[39;00m\u001b[39m.\u001b[39;00m\u001b[39mpyplot\u001b[39;00m \u001b[39mas\u001b[39;00m \u001b[39mplt\u001b[39;00m\n\u001b[1;32m----> <a href='vscode-notebook-cell:/d%3A/UnityGames/GITHUB/Words2Code/Words2Code/src/transformation.ipynb#W1sZmlsZQ%3D%3D?line=5'>6</a>\u001b[0m \u001b[39mfrom\u001b[39;00m \u001b[39mPIL\u001b[39;00m \u001b[39mimport\u001b[39;00m imresize, imrotate, imsave \n\u001b[0;32m      <a href='vscode-notebook-cell:/d%3A/UnityGames/GITHUB/Words2Code/Words2Code/src/transformation.ipynb#W1sZmlsZQ%3D%3D?line=6'>7</a>\u001b[0m \u001b[39m# from sklearn.externals._pilutil import imresize\u001b[39;00m\n\u001b[0;32m      <a href='vscode-notebook-cell:/d%3A/UnityGames/GITHUB/Words2Code/Words2Code/src/transformation.ipynb#W1sZmlsZQ%3D%3D?line=7'>8</a>\u001b[0m \u001b[39mfrom\u001b[39;00m \u001b[39msklearn\u001b[39;00m\u001b[39m.\u001b[39;00m\u001b[39mmodel_selection\u001b[39;00m \u001b[39mimport\u001b[39;00m train_test_split\n",
      "\u001b[1;31mImportError\u001b[0m: cannot import name 'imresize' from 'PIL' (C:\\Users\\Itay\\AppData\\Local\\Packages\\PythonSoftwareFoundation.Python.3.9_qbz5n2kfra8p0\\LocalCache\\local-packages\\Python39\\site-packages\\PIL\\__init__.py)"
     ]
    }
   ],
   "source": [
    "from __future__ import print_function\n",
    "import numpy as np\n",
    "import pandas as pd\n",
    "import cv2\n",
    "import matplotlib.pyplot as plt\n",
    "from PIL import Image\n",
    "# imresize, imrotate, imsave \n",
    "# from sklearn.externals._pilutil import imresize\n",
    "from sklearn.model_selection import train_test_split\n",
    "from sklearn.utils import shuffle\n",
    "\n",
    "# display plots in this notebook\n",
    "%matplotlib inline\n",
    "\n",
    "# set display defaults\n",
    "plt.rcParams['figure.figsize'] = (10, 10) \n",
    "plt.rcParams['image.interpolation'] = 'nearest'\n",
    "plt.rcParams['image.cmap'] = 'gray' \n",
    "\n",
    "path = 'C:/Users/Itay/Downloads/curated/curated/'"
   ]
  },
  {
   "cell_type": "code",
   "execution_count": null,
   "metadata": {
    "collapsed": false
   },
   "outputs": [],
   "source": [
    "#Read characters only a-z and A-Z characters\n",
    "#PENDING: special characters and digits\n",
    "\n",
    "from os import listdir\n",
    "from os.path import isfile, join\n",
    "\n",
    "character_curated = [ord(c) for c in 'abcdefghijklmnopqrstuvwxyzABCDEFGHIJKLMNOPQRSTUVWXYZ']\n",
    "print([chr(i) for i in character_curated])\n",
    "\n",
    "X = []\n",
    "y = []\n",
    "for i in character_curated:\n",
    "    path_img = path + str(i) + '/'\n",
    "    for file_name in [f for f in listdir(path_img) if isfile(join(path_img, f))]:\n",
    "        img = cv2.imread(path_img + file_name, 0)\n",
    "        #img = cv2.resize(img,(32, 32), interpolation = cv2.INTER_AREA)\n",
    "        X += [img]\n",
    "        y += [i]\n",
    "\n",
    "X = np.array(X, dtype=np.uint8)\n",
    "y = np.array(y, dtype=np.uint8)\n",
    "print(X.shape)\n",
    "print(y.shape)"
   ]
  },
  {
   "cell_type": "code",
   "execution_count": null,
   "metadata": {
    "collapsed": true
   },
   "outputs": [],
   "source": [
    "#\n",
    "#Select a subset of characters\n",
    "#\n",
    "from sklearn.utils import shuffle\n",
    "# from sklearn.cross_validation import train_test_split\n",
    "from sklearn import preprocessing\n",
    "\n",
    "def prepare_data_char_subset(X, y):\n",
    "    '''\n",
    "    Definition: Create train test data to model it\n",
    "        - shuffle\n",
    "        - separate train test\n",
    "        - encode target to dummy vars\n",
    "    Parameters:\n",
    "        X: images[n_images, x_size, y_size]\n",
    "        y: characters[n_images, 1]\n",
    "        char_select: dictionary of characters selected\n",
    "        augmentation_fuction\n",
    "    \n",
    "    usage:\n",
    "        prepare_data_char_subset(X, y, set(['1','0']), augmentation_fuction = lambda: augmentate01(param1, param2=p2) )\n",
    "        \n",
    "    return:\n",
    "        X_train, y_train, X_test, y_test, labels_dictionary\n",
    "    '''\n",
    "    X_select = X\n",
    "    y_select = y\n",
    "\n",
    "    #Shuffle\n",
    "    X_select, y_select = shuffle(X_select, y_select, random_state=0)\n",
    "    \n",
    "    \n",
    "    #Separate train test\n",
    "    X_train, X_test, y_train, y_test = train_test_split(X_select, y_select, test_size=0.20, random_state=42)\n",
    "    print(X_train.shape)\n",
    "    X_train = np.reshape(X_train,  (X_train.shape[0],1,X_train.shape[1],X_train.shape[2]))\n",
    "    X_test = np.reshape(X_test,  (X_test.shape[0],1,X_test.shape[1],X_test.shape[2]))\n",
    "    \n",
    "    print('Train shape: ',X_train.shape, y_train.shape)\n",
    "    print('Test shape: ',X_test.shape, y_test.shape)\n",
    "    print('Num classes: ', len(set(y_train)))\n",
    "    print('Classes: ', set(y_train))\n",
    "    \n",
    "    return X_train, y_train, X_test, y_test\n"
   ]
  },
  {
   "cell_type": "code",
   "execution_count": null,
   "metadata": {
    "collapsed": false
   },
   "outputs": [],
   "source": [
    "#Separate train test data\n",
    "X_train, y_train, X_test, y_test = prepare_data_char_subset(X, y)\n",
    "\n",
    "print(X_train.shape, X_test.shape)"
   ]
  },
  {
   "cell_type": "markdown",
   "metadata": {
    "collapsed": false
   },
   "source": [
    "## Generate new data\n",
    "    - New characters concatenating in the border of the character the start and/or end of other characters\n",
    "    - new characters moving up /down characters (rescale and place in the selected positions). Classes:\n",
    "        - Medium or high or low: a, c, e, i, m, n, o, r, s, u, v, w, x, z\n",
    "        - Low - Medium: g, j, p, q, y \n",
    "        - Medium-High: b, d, f, h, k, l, t\n",
    "    - Two ways to concatenate: with separation or withow separation (the border are aprox 4pixels)  \n",
    "    - concatenate original characters with original characters and moved characters with moved characters \n",
    "  "
   ]
  },
  {
   "cell_type": "code",
   "execution_count": null,
   "metadata": {
    "collapsed": false
   },
   "outputs": [],
   "source": [
    "def move_characters(X, y):\n",
    "    X_moved=[]\n",
    "    y_moved=[]\n",
    "    \n",
    "    for i,y_value in enumerate(y):\n",
    "        y_char = chr(y_value)\n",
    "        if y_char in ['a', 'c', 'e', 'i', 'm', 'n', 'o', 'r', 's', 'u', 'v', 'w', 'x', 'z']:\n",
    "            #Resize to 40x40 and place botton, medium and top \n",
    "            img1 = img1.resize(X[i,0,:,:],(46,46))\n",
    "            \n",
    "            img_center = np.zeros((64,64))\n",
    "            img_center[9:55, 9:55] = img1 \n",
    "            X_moved += [img_center]\n",
    "            y_moved += [y_value]\n",
    "            \n",
    "            img_top = np.zeros((64,64))\n",
    "            img_top[:46, 9:55] = img1 \n",
    "            X_moved += [img_top]\n",
    "            y_moved += [y_value]\n",
    "\n",
    "            img_botton = np.zeros((64,64))\n",
    "            img_botton[18:, 9:55] = img1 \n",
    "            X_moved += [img_botton]\n",
    "            y_moved += [y_value]\n",
    "\n",
    "        elif y_char in ['g', 'j', 'p', 'q', 'y']:\n",
    "            #Resize to 52x52 and place botton\n",
    "            img1 = img1.resize(X[i,0,:,:],(46,46))\n",
    "            img_botton = np.zeros((64,64))\n",
    "            img_botton[18:, 9:55] = img1 \n",
    "            X_moved += [img_botton]\n",
    "            y_moved += [y_value]\n",
    "\n",
    "        elif y_char in ['b', 'd', 'f', 'h', 'k', 'l', 't', 'A', 'B', 'C', 'D', 'E',\n",
    "                        'F', 'G', 'H', 'I', 'J', 'K', 'L', 'M', 'N', 'O', 'P', 'Q', \n",
    "                        'R', 'S', 'T', 'U', 'V', 'W', 'X', 'Y', 'Z']:\n",
    "            #Resize to 52x52 and place on top\n",
    "            img1 = img1.resize(X[i,0,:,:],(46,46))            \n",
    "            img_top = np.zeros((64,64))\n",
    "            img_top[:46, 9:55] = img1 \n",
    "            X_moved += [img_top]\n",
    "            y_moved += [y_value]\n",
    "\n",
    "    X_moved = np.array(X_moved, dtype=np.float16)\n",
    "    y_moved = np.array(y_moved)\n",
    "    X_moved = np.reshape(X_moved, (X_moved.shape[0], 1, X_moved.shape[1], X_moved.shape[2]) )\n",
    "    return X_moved, y_moved\n",
    "\n"
   ]
  },
  {
   "cell_type": "code",
   "execution_count": null,
   "metadata": {
    "collapsed": false
   },
   "outputs": [],
   "source": [
    "#Test and show\n",
    "X_train_moved, y_train_moved = move_characters(X_train[4347:4449], y_train[4347:4449])\n",
    "print(X_train_moved.shape, y_train_moved.shape)\n",
    "\n",
    "fig = plt.figure()\n",
    "pos_ini=0\n",
    "n_chars=15\n",
    "for i,index in enumerate(xrange(pos_ini,pos_ini+n_chars)):           \n",
    "    fig.add_subplot(n_chars/3,3,i)\n",
    "    plt.imshow(X_train_moved[i,0,:,:])\n",
    "\n"
   ]
  },
  {
   "cell_type": "code",
   "execution_count": null,
   "metadata": {
    "collapsed": false
   },
   "outputs": [],
   "source": [
    "#Count cases by target value\n",
    "from collections import Counter\n",
    "\n",
    "c = Counter(y_train)\n",
    "d_num_cases = dict(c.most_common())\n",
    "print(d_num_cases)"
   ]
  },
  {
   "cell_type": "code",
   "execution_count": null,
   "metadata": {
    "collapsed": false
   },
   "outputs": [],
   "source": [
    "X_train_moved, y_train_moved = move_characters(X_train, y_train)\n",
    "print(X_train_moved.shape, y_train_moved.shape)\n",
    "\n",
    "X_test_moved, y_test_moved = move_characters(X_test, y_test)\n",
    "print(X_test_moved.shape, y_test_moved.shape)"
   ]
  },
  {
   "cell_type": "markdown",
   "metadata": {
    "collapsed": true
   },
   "source": [
    "## Add borders\n",
    "    - Include in the border of each character the start/end of other letters 1 and 3 pixels\n",
    "    - Create borders: select random characters and identify an cut borders of 2 and 4 pixels in each side\n",
    "    - For each character select a random border and generate new character. Dont move the position of the original character\n",
    "    - For each character identify how many need to generate to obtain a balanced sample of 1000\n"
   ]
  },
  {
   "cell_type": "code",
   "execution_count": null,
   "metadata": {
    "collapsed": false
   },
   "outputs": [],
   "source": [
    "#create 64x8 borders left and rigth\n",
    "def obtain_borders(img, treshold=0.):\n",
    "    #Identify border of the letter\n",
    "    border_left = img[:,:8]\n",
    "    left_position = 0\n",
    "    for i in xrange(0,56,1):\n",
    "        if np.max(img[:,i]) > treshold:\n",
    "            left_position = i\n",
    "            break\n",
    "    rigth_position = 64\n",
    "    border_rigth = img[:,56:]\n",
    "    for i in xrange(63,8,-1):\n",
    "        if np.max(img[:,i]) > treshold:\n",
    "            rigth_position = i\n",
    "            break\n",
    "    return img[:,left_position:left_position+8], img[:,rigth_position-8:rigth_position], img[:,left_position:rigth_position]\n"
   ]
  },
  {
   "cell_type": "code",
   "execution_count": null,
   "metadata": {
    "collapsed": false
   },
   "outputs": [],
   "source": [
    "# Test\n",
    "border_left, border_rigth, char_adjusted = obtain_borders(X_train[0,0,:,:])\n",
    "\n",
    "f = plt.figure()\n",
    "\n",
    "a = f.add_subplot(1,4,1)\n",
    "plt.imshow(X_train[0,0,:,:])\n",
    "\n",
    "a = f.add_subplot(1,4,2)\n",
    "plt.imshow(border_left)\n",
    "\n",
    "a = f.add_subplot(1,4,3)\n",
    "plt.imshow(border_rigth)\n",
    "\n",
    "a = f.add_subplot(1,4,4)\n",
    "plt.imshow(char_adjusted)\n",
    "\n"
   ]
  },
  {
   "cell_type": "code",
   "execution_count": null,
   "metadata": {
    "collapsed": false
   },
   "outputs": [],
   "source": [
    "train_left_borders = []\n",
    "train_rigth_borders = []\n",
    "train_img_no_borders = []\n",
    "for i,y_value in enumerate(y_train):\n",
    "    l, r, c = obtain_borders(X_train[i,0,:,:], treshold=0.)\n",
    "    train_left_borders += [l]\n",
    "    train_rigth_borders += [r]\n",
    "    train_img_no_borders += [c]\n",
    "train_left_borders = np.array(train_left_borders)\n",
    "train_rigth_borders = np.array(train_rigth_borders)\n",
    "\n",
    "    \n",
    "test_left_borders = []\n",
    "test_rigth_borders = []\n",
    "test_img_no_borders = []\n",
    "for i,y_value in enumerate(y_test):\n",
    "    l, r, c = obtain_borders(X_test[i,0,:,:], treshold=0.)\n",
    "    test_left_borders += [l]\n",
    "    test_rigth_borders += [r]\n",
    "    test_img_no_borders += [c]\n",
    "test_left_borders = np.array(test_left_borders)\n",
    "test_rigth_borders = np.array(test_rigth_borders)\n"
   ]
  },
  {
   "cell_type": "code",
   "execution_count": null,
   "metadata": {
    "collapsed": false
   },
   "outputs": [],
   "source": [
    "# Example of results\n",
    "f = plt.figure()\n",
    "for i in xrange(24):\n",
    "    a = f.add_subplot(6,4,i)\n",
    "    plt.imshow(train_left_borders[i,:,:])\n"
   ]
  },
  {
   "cell_type": "markdown",
   "metadata": {},
   "source": [
    "## Join the borders to the original images"
   ]
  },
  {
   "cell_type": "code",
   "execution_count": null,
   "metadata": {
    "collapsed": false
   },
   "outputs": [],
   "source": [
    "import random\n",
    "\n",
    "X_trn_borders_left = []\n",
    "X_trn_borders_rigth = []\n",
    "y_trn_borders_left = []\n",
    "y_trn_borders_rigth = []\n",
    "def generate_borders_images(X,y):\n",
    "    X_left = []\n",
    "    y_left = []\n",
    "    X_rigth = []\n",
    "    y_rigth = []\n",
    "    for i,y_value in enumerate(y):\n",
    "        y_char = y_value\n",
    "        #n_images = int(10000 / d_num_cases[y_char]) # balanced sample\n",
    "        n_images = int(30000 / (d_num_cases[y_char])) # Reduce by 2 the balanced sample to reduce sample\n",
    "        \n",
    "        for j in xrange(n_images/2): # two images each iteration\n",
    "            n_borders =  int(random.uniform(0,X.shape[0]))\n",
    "            img_left = np.copy(X[i,0,:,:])\n",
    "            img_left[:,:5] = train_rigth_borders[n_borders,:,-5:] #put the rigth side of the rigth border\n",
    "            X_left += [img_left]\n",
    "            y_left += [y_value]\n",
    "            \n",
    "            img_rigth = np.copy(X[i,0,:,:])\n",
    "            img_rigth[:,-5:] = train_left_borders[n_borders,:,:5] #put the left side of the left border\n",
    "            X_rigth += [img_rigth]\n",
    "            y_rigth += [y_value]\n",
    "            \n",
    "    X_left  = np.array(X_left, dtype=np.float16)\n",
    "    X_left  = np.reshape(X_left, (X_left.shape[0], 1, X_left.shape[1], X_left.shape[2]) )\n",
    "    y_left  = np.array(y_left)\n",
    "    X_rigth = np.array(X_rigth, dtype=np.float16)\n",
    "    X_rigth = np.reshape(X_rigth, (X_rigth.shape[0], 1, X_rigth.shape[1], X_rigth.shape[2]) )\n",
    "    y_rigth = np.array(y_rigth)\n",
    "    return X_left, y_left, X_rigth, y_rigth\n",
    "\n"
   ]
  },
  {
   "cell_type": "code",
   "execution_count": null,
   "metadata": {
    "collapsed": false
   },
   "outputs": [],
   "source": [
    "# Test\n",
    "X_train_left, y_train_left, X_train_rigth, y_train_rigth = generate_borders_images(X_train[300:315],y_train[300:315])\n",
    "    \n",
    "print( X_train_left.shape, y_train_left.shape, X_train_rigth.shape, y_train_rigth.shape)\n",
    "\n",
    "f = plt.figure()\n",
    "for i in xrange(24):\n",
    "    a = f.add_subplot(6,4,i)\n",
    "    plt.imshow(X_train_left[i,0,:,:])\n"
   ]
  },
  {
   "cell_type": "code",
   "execution_count": null,
   "metadata": {
    "collapsed": false
   },
   "outputs": [],
   "source": [
    "# Join borders to train and test data\n",
    "\n",
    "X_train_left, y_train_left, X_train_rigth, y_train_rigth = generate_borders_images(X_train, y_train)\n",
    "print( X_train_left.shape, y_train_left.shape, X_train_rigth.shape, y_train_rigth.shape)\n",
    "   \n",
    "X_test_left, y_test_left, X_test_rigth, y_test_rigth = generate_borders_images(X_test, y_test)\n",
    "print( X_test_left.shape, y_test_left.shape, X_test_rigth.shape, y_test_rigth.shape)"
   ]
  },
  {
   "cell_type": "code",
   "execution_count": null,
   "metadata": {
    "collapsed": false
   },
   "outputs": [],
   "source": [
    "#Combine all sources\n",
    "\n",
    "X_train_aug = np.concatenate((X_train, X_train_moved, X_train_left, X_train_rigth),axis=0)\n",
    "y_train_aug = np.concatenate((y_train, y_train_moved, y_train_left, y_train_rigth),axis=0)\n",
    "\n",
    "X_test_aug = np.concatenate((X_test, X_test_moved, X_test_left, X_test_rigth),axis=0)\n",
    "y_test_aug = np.concatenate((y_test, y_test_moved, y_test_left, y_test_rigth),axis=0)\n",
    "\n",
    "print(X_train_aug.shape, y_train_aug.shape, X_train_aug.shape, y_train_aug.shape)\n",
    "print(X_test_aug.shape, y_test_aug.shape, X_test_aug.shape, y_test_aug.shape)"
   ]
  },
  {
   "cell_type": "code",
   "execution_count": null,
   "metadata": {
    "collapsed": true
   },
   "outputs": [],
   "source": [
    "#Shuffle train data\n",
    "X_train_aug, y_train_aug = shuffle(X_train_aug, y_train_aug, random_state=0)\n"
   ]
  },
  {
   "cell_type": "code",
   "execution_count": null,
   "metadata": {
    "collapsed": false
   },
   "outputs": [],
   "source": [
    "# standarize \n",
    "X_train_aug = (X_train_aug -128.)/ 255.\n",
    "X_test_aug  = (X_test_aug -128.)/ 255.\n",
    "    \n",
    "    \n"
   ]
  },
  {
   "cell_type": "code",
   "execution_count": null,
   "metadata": {
    "collapsed": false
   },
   "outputs": [],
   "source": [
    "#Check data\n",
    "i=13345\n",
    "print(chr(y_train_aug[i]))\n",
    "plt.imshow(X_train_aug[i,0,:,:])"
   ]
  },
  {
   "cell_type": "code",
   "execution_count": null,
   "metadata": {
    "collapsed": true
   },
   "outputs": [],
   "source": [
    "#Save data to hdf5\n",
    "import h5py\n",
    "\n",
    "hdf5_f = h5py.File(path + \"characters_upcase_lowcase_64x64.hdf5\",mode='a')\n",
    "\n",
    "if \"X_train_aug\" in hdf5_f:\n",
    "    del hdf5_f[\"X_train_aug\"]\n",
    "hdf5_f.create_dataset(\"X_train_aug\", data = X_train_aug) \n",
    "\n",
    "if \"y_train_aug\" in hdf5_f:\n",
    "    del hdf5_f[\"y_train_aug\"]\n",
    "hdf5_f.create_dataset(\"y_train_aug\", data = y_train_aug)\n",
    "\n",
    "if \"X_test_aug\" in hdf5_f:\n",
    "    del hdf5_f[\"X_test_aug\"]\n",
    "hdf5_f.create_dataset(\"X_test_aug\", data = X_test_aug) \n",
    "\n",
    "if \"y_test_aug\" in hdf5_f:\n",
    "    del hdf5_f[\"y_test_aug\"]\n",
    "hdf5_f.create_dataset(\"y_test_aug\", data = y_test_aug)\n",
    "\n",
    "hdf5_f.close() "
   ]
  },
  {
   "cell_type": "code",
   "execution_count": null,
   "metadata": {
    "collapsed": true
   },
   "outputs": [],
   "source": []
  },
  {
   "cell_type": "code",
   "execution_count": null,
   "metadata": {
    "collapsed": false
   },
   "outputs": [],
   "source": [
    "#Example of cade to load the data generated from hdf5\n",
    "import h5py\n",
    "\n",
    "hdf5_f = h5py.File(path + \"characters_upcase_lowcase_64x64.hdf5\", mode='r')\n",
    "\n",
    "X = hdf5_f[\"X_train_aug\"]\n",
    "y = hdf5_f[\"y_train_aug\"]\n",
    "print X.shape, y.shape\n",
    "X_train_aug = np.copy(X)\n",
    "y_train_aug = np.copy(y)\n",
    "\n",
    "X = hdf5_f[\"X_test_aug\"]\n",
    "y = hdf5_f[\"y_test_aug\"]\n",
    "print X.shape, y.shape\n",
    "X_test_aug = np.copy(X)\n",
    "y_test_aug = np.copy(y)\n",
    "\n",
    "\n",
    "hdf5_f.close()"
   ]
  },
  {
   "cell_type": "code",
   "execution_count": null,
   "metadata": {
    "collapsed": true
   },
   "outputs": [],
   "source": []
  }
 ],
 "metadata": {
  "kernelspec": {
   "display_name": "Python 3.9.13 64-bit (windows store)",
   "language": "python",
   "name": "python3"
  },
  "language_info": {
   "codemirror_mode": {
    "name": "ipython",
    "version": 3
   },
   "file_extension": ".py",
   "mimetype": "text/x-python",
   "name": "python",
   "nbconvert_exporter": "python",
   "pygments_lexer": "ipython3",
   "version": "3.9.13"
  },
  "vscode": {
   "interpreter": {
    "hash": "6c988e28a7e1a3ef2a5a3d4b0bd8c3025a315e005e459b27b206b5c18783c294"
   }
  }
 },
 "nbformat": 4,
 "nbformat_minor": 0
}
